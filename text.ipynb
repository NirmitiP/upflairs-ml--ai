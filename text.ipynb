{
 "cells": [
  {
   "attachments": {},
   "cell_type": "markdown",
   "metadata": {},
   "source": [
    "-identifiers\n",
    "-keywords\n",
    "-operators\n",
    "    1.arithmetic: +, *, -, //, %, **\n",
    "    2.relational: ==,!=, >,<,>=,<=,\n",
    "    3.logical: and, or, not\n",
    "\n",
    "\n",
    "-data operaations\n",
    "    1. item accessing(indexing/ slicing/ subscript)\n",
    "    2. item insertion\n",
    "    3. item assignment(possible with mutable only)\n",
    "    4. item deletion(possible with mutable only)\n",
    "\n",
    "-data type built in functions\n",
    "    str: upper,lower, find ,split, strip, join, format, count\n",
    "    list: append, sort, count, copy, insert, remove, index, pop\n",
    "    tuple:count, index\n",
    "    dict:keys, values, update, get, pop\n",
    "    set: add,difference, union, pop, remove\n"
   ]
  },
  {
   "attachments": {},
   "cell_type": "markdown",
   "metadata": {},
   "source": [
    "->functions type\n",
    "1. no input and no output args\n",
    "2. input arg but no output args\n",
    "3. no input but output args are there\n",
    "4. both are there\n",
    "\n",
    "a. in-place{self-update}\n",
    "b. non in-place"
   ]
  },
  {
   "attachments": {},
   "cell_type": "markdown",
   "metadata": {},
   "source": [
    "->split -space se divide krta h\n",
    "strip - removes the string\n",
    "join- insert string after each letter"
   ]
  },
  {
   "attachments": {},
   "cell_type": "markdown",
   "metadata": {},
   "source": [
    "->deep copy vs shallow copy\n"
   ]
  },
  {
   "attachments": {},
   "cell_type": "markdown",
   "metadata": {},
   "source": [
    "->if we typecaste in to set it removes repeated data and sorts it\n",
    "in set we can't do indexing"
   ]
  },
  {
   "attachments": {},
   "cell_type": "markdown",
   "metadata": {},
   "source": [
    "->actual programming\n",
    ". logics\n",
    "1. conditions\n",
    "2. loops\n",
    "3. errors\n",
    "4. functions\n",
    "5. classes\n",
    "6. library\n"
   ]
  },
  {
   "attachments": {},
   "cell_type": "markdown",
   "metadata": {},
   "source": [
    "->suites in python\n",
    "\n",
    "statement:\n",
    "    content\n",
    "    content\n",
    "statement2:\n",
    "    content\n",
    "    statement 3:\n",
    "        more content"
   ]
  },
  {
   "attachments": {},
   "cell_type": "markdown",
   "metadata": {},
   "source": [
    "->conditional statement\n",
    "1. if-elif-if\n",
    "\n",
    "->looping\n",
    "1. while-else\n",
    "2. for-else\n",
    "3. continue/breaking\n",
    "\n",
    "->error handling\n",
    "1. try-except-else-finally\n",
    "\n",
    "->use-defined fns\n",
    "1. def\n",
    "\n",
    "->classes\n",
    "1. class\n"
   ]
  },
  {
   "attachments": {},
   "cell_type": "markdown",
   "metadata": {},
   "source": [
    "while - when no. of iteration is unknown\n",
    "for - when particular no. of iteration is known\n",
    "range(start, end, gap) - range(1,11,1)"
   ]
  },
  {
   "attachments": {},
   "cell_type": "markdown",
   "metadata": {},
   "source": [
    "->comprehension\n",
    "1. for loop  statements which are of one liner\n",
    "2. list comperehension \n",
    "[output for-loop] - to  map\n",
    "[output for-loop  if-condition] - to filter\n",
    "3. dict comprehension\n",
    "{key_output: value_output for-loop} \n",
    "4. set comprehension\n",
    "{output for-loop}\n",
    "5. generator comprehension\n",
    "(output for-loop)"
   ]
  },
  {
   "attachments": {},
   "cell_type": "markdown",
   "metadata": {},
   "source": [
    "-> for-each \n",
    "for obj in collection: pass"
   ]
  },
  {
   "attachments": {},
   "cell_type": "markdown",
   "metadata": {},
   "source": [
    "pass- \n",
    "--used to do nothing but wait untill it gets value\n",
    "--used when empty statements is written "
   ]
  },
  {
   "cell_type": "code",
   "execution_count": 2,
   "metadata": {},
   "outputs": [],
   "source": [
    "a=[4,'hi', 'nice', 35]\n",
    "b=[]"
   ]
  },
  {
   "cell_type": "code",
   "execution_count": 3,
   "metadata": {},
   "outputs": [
    {
     "data": {
      "text/plain": [
       "[8, 'hihi', 'nicenice', 70]"
      ]
     },
     "execution_count": 3,
     "metadata": {},
     "output_type": "execute_result"
    }
   ],
   "source": [
    "b = [val *2 for val in a]        #list comprehension\n",
    "b"
   ]
  },
  {
   "attachments": {},
   "cell_type": "markdown",
   "metadata": {},
   "source": [
    "'''           '''' --used for making multiline string//doc string"
   ]
  },
  {
   "attachments": {},
   "cell_type": "markdown",
   "metadata": {},
   "source": [
    "-> user defined functions\n",
    "syntax>>> \n",
    "def fn_ka_naam():\n",
    "    print('ye kuch krdega')\n",
    "\n",
    "calling syntax>>>>\n",
    "fn_ka_naam()"
   ]
  },
  {
   "attachments": {},
   "cell_type": "markdown",
   "metadata": {},
   "source": [
    "-- when arguments are passed and value is returned \n",
    "syntax>>>>\n",
    "def ekor(ekvalue, dusrival):\n",
    "    return ekvalue*dusrival\n",
    "\n",
    "--unnamed parameter will always com in left side"
   ]
  },
  {
   "attachments": {},
   "cell_type": "markdown",
   "metadata": {},
   "source": [
    "NUMPY\n",
    "1. an arrfay object of arbitary homogenous items\n",
    "2. fast mathematical operaion over arrays\n",
    "3. linear algebra , fourier transforms, random number generation"
   ]
  },
  {
   "attachments": {},
   "cell_type": "markdown",
   "metadata": {},
   "source": [
    "x- row\n",
    "y- column\n",
    "w- width of image\n",
    "h- height of image\n",
    "\n",
    "(150,50)\n",
    "(60,40)\n",
    "\n",
    ">>img[50:50+40, 150:150+60]"
   ]
  },
  {
   "attachments": {},
   "cell_type": "markdown",
   "metadata": {},
   "source": [
    "np.array()\n",
    "np.arange()\n",
    "np.linspace()\n",
    "np.ones()\n",
    "np.zeroes()\n",
    "np.eye()\n",
    "np.random.randint()"
   ]
  },
  {
   "cell_type": "code",
   "execution_count": null,
   "metadata": {},
   "outputs": [],
   "source": [
    "opencv- python\n",
    "scikit- image\n",
    "matplotlib"
   ]
  },
  {
   "attachments": {},
   "cell_type": "markdown",
   "metadata": {},
   "source": [
    "in range you can't give float no's while in  arange you can give it\n",
    "\n"
   ]
  },
  {
   "attachments": {},
   "cell_type": "markdown",
   "metadata": {},
   "source": [
    "->  astype(int)  #used to convert datatype\n",
    "\n",
    "uint8 - is unsigned int of 8 bit"
   ]
  },
  {
   "attachments": {},
   "cell_type": "markdown",
   "metadata": {},
   "source": [
    "-\n",
    "-> datatypes that can be used in numpy\n",
    "'uint8', 'uint16', 'uint32', 'uint64','int8', 'int16', 'int32', 'int64', 'float8', 'float16', 'float32', 'float64'"
   ]
  },
  {
   "attachments": {},
   "cell_type": "markdown",
   "metadata": {},
   "source": [
    "- random.randint() - gives array of random integers from given range but can give repeated values\n",
    "- random.seed()\n",
    "- random.rand()"
   ]
  },
  {
   "attachments": {},
   "cell_type": "markdown",
   "metadata": {},
   "source": [
    "in statistical terms axis=0 is column and axis=1  is row"
   ]
  },
  {
   "attachments": {},
   "cell_type": "markdown",
   "metadata": {},
   "source": [
    "IMAGE PROCESSING AND COMPUTER VISION\n"
   ]
  },
  {
   "attachments": {},
   "cell_type": "markdown",
   "metadata": {},
   "source": [
    "->OpenCV\n",
    "OpenCV (Open Source Computer Vision) is a popular open-source library for computer vision programming. It provides a wide range of tools and functions for image and video processing, including object detection, facial recognition, and machine learning.\n",
    "\n",
    "->TensorFlow\n",
    "TensorFlow is a popular machine learning library that includes support for computer vision tasks. It provides tools and functions for building and training neural networks, which can be used for tasks such as image classification and object detection.\n",
    "\n",
    "->PyTorch\n",
    "PyTorch is another machine learning library that includes support for computer vision. It provides tools for building and training neural networks, and includes support for popular datasets such as CIFAR-10 and ImageNet.\n",
    "\n",
    "->Keras\n",
    "Keras is a high-level neural network API that can be used with TensorFlow or other backends. It includes support for computer vision tasks, and makes it easy to build and train neural networks with minimal code.\n",
    "\n",
    "->Scikit-image\n",
    "Scikit-image is a Python library for image processing and computer vision tasks. It includes tools for tasks such as image filtering, segmentation, and feature extraction.\n",
    "\n",
    "\n",
    "\n",
    "\n",
    "\n"
   ]
  }
 ],
 "metadata": {
  "kernelspec": {
   "display_name": "Python 3",
   "language": "python",
   "name": "python3"
  },
  "language_info": {
   "codemirror_mode": {
    "name": "ipython",
    "version": 3
   },
   "file_extension": ".py",
   "mimetype": "text/x-python",
   "name": "python",
   "nbconvert_exporter": "python",
   "pygments_lexer": "ipython3",
   "version": "3.9.6"
  },
  "orig_nbformat": 4,
  "vscode": {
   "interpreter": {
    "hash": "d5c64c408a273da3dbd06582ea52f96e648b79ec6175e598d8eff971c84e0eca"
   }
  }
 },
 "nbformat": 4,
 "nbformat_minor": 2
}
