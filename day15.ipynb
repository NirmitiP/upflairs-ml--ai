{
 "cells": [
  {
   "cell_type": "code",
   "execution_count": 1,
   "metadata": {},
   "outputs": [
    {
     "name": "stdout",
     "output_type": "stream",
     "text": [
      "Requirement already satisfied: cmake in c:\\users\\91826\\appdata\\local\\programs\\python\\python39\\lib\\site-packages (3.26.3)\n"
     ]
    },
    {
     "name": "stderr",
     "output_type": "stream",
     "text": [
      "WARNING: You are using pip version 21.1.3; however, version 23.1.2 is available.\n",
      "You should consider upgrading via the 'c:\\Users\\91826\\AppData\\Local\\Programs\\Python\\Python39\\python.exe -m pip install --upgrade pip' command.\n"
     ]
    },
    {
     "name": "stdout",
     "output_type": "stream",
     "text": [
      "Collecting face_recognition\n",
      "  Using cached face_recognition-1.3.0-py2.py3-none-any.whl (15 kB)\n",
      "Requirement already satisfied: face-recognition-models>=0.3.0 in c:\\users\\91826\\appdata\\local\\programs\\python\\python39\\lib\\site-packages (from face_recognition) (0.3.0)\n",
      "Requirement already satisfied: Pillow in c:\\users\\91826\\appdata\\local\\programs\\python\\python39\\lib\\site-packages (from face_recognition) (9.5.0)\n",
      "Requirement already satisfied: numpy in c:\\users\\91826\\appdata\\local\\programs\\python\\python39\\lib\\site-packages (from face_recognition) (1.24.2)\n",
      "Collecting dlib>=19.7\n",
      "  Using cached dlib-19.24.1.tar.gz (3.2 MB)\n",
      "Collecting Click>=6.0\n",
      "  Using cached click-8.1.3-py3-none-any.whl (96 kB)\n",
      "Requirement already satisfied: colorama in c:\\users\\91826\\appdata\\roaming\\python\\python39\\site-packages (from Click>=6.0->face_recognition) (0.4.6)\n",
      "Using legacy 'setup.py install' for dlib, since package 'wheel' is not installed.\n",
      "Installing collected packages: dlib, Click, face-recognition\n",
      "    Running setup.py install for dlib: started\n",
      "    Running setup.py install for dlib: finished with status 'error'\n"
     ]
    },
    {
     "name": "stderr",
     "output_type": "stream",
     "text": [
      "    ERROR: Command errored out with exit status 1:\n",
      "     command: 'c:\\Users\\91826\\AppData\\Local\\Programs\\Python\\Python39\\python.exe' -u -c 'import io, os, sys, setuptools, tokenize; sys.argv[0] = '\"'\"'C:\\\\Users\\\\91826\\\\AppData\\\\Local\\\\Temp\\\\pip-install-49n0pfo_\\\\dlib_ae96b46998d24353b987d84d45aed345\\\\setup.py'\"'\"'; __file__='\"'\"'C:\\\\Users\\\\91826\\\\AppData\\\\Local\\\\Temp\\\\pip-install-49n0pfo_\\\\dlib_ae96b46998d24353b987d84d45aed345\\\\setup.py'\"'\"';f = getattr(tokenize, '\"'\"'open'\"'\"', open)(__file__) if os.path.exists(__file__) else io.StringIO('\"'\"'from setuptools import setup; setup()'\"'\"');code = f.read().replace('\"'\"'\\r\\n'\"'\"', '\"'\"'\\n'\"'\"');f.close();exec(compile(code, __file__, '\"'\"'exec'\"'\"'))' install --record 'C:\\Users\\91826\\AppData\\Local\\Temp\\pip-record-yu2_ezlc\\install-record.txt' --single-version-externally-managed --compile --install-headers 'c:\\Users\\91826\\AppData\\Local\\Programs\\Python\\Python39\\Include\\dlib'\n",
      "         cwd: C:\\Users\\91826\\AppData\\Local\\Temp\\pip-install-49n0pfo_\\dlib_ae96b46998d24353b987d84d45aed345\\\n",
      "    Complete output (60 lines):\n",
      "    running install\n",
      "    running build\n",
      "    running build_py\n",
      "    package init file 'tools\\python\\dlib\\__init__.py' not found (or not a regular file)\n",
      "    running build_ext\n",
      "    Building extension for Python 3.9.6 (tags/v3.9.6:db3ff76, Jun 28 2021, 15:26:21) [MSC v.1929 64 bit (AMD64)]\n",
      "    Invoking CMake setup: 'cmake C:\\Users\\91826\\AppData\\Local\\Temp\\pip-install-49n0pfo_\\dlib_ae96b46998d24353b987d84d45aed345\\tools\\python -DCMAKE_LIBRARY_OUTPUT_DIRECTORY=C:\\Users\\91826\\AppData\\Local\\Temp\\pip-install-49n0pfo_\\dlib_ae96b46998d24353b987d84d45aed345\\build\\lib.win-amd64-3.9 -DPYTHON_EXECUTABLE=c:\\Users\\91826\\AppData\\Local\\Programs\\Python\\Python39\\python.exe -DCMAKE_LIBRARY_OUTPUT_DIRECTORY_RELEASE=C:\\Users\\91826\\AppData\\Local\\Temp\\pip-install-49n0pfo_\\dlib_ae96b46998d24353b987d84d45aed345\\build\\lib.win-amd64-3.9 -A x64'\n",
      "    -- Building for: NMake Makefiles\n",
      "    CMake Error at CMakeLists.txt:5 (message):\n",
      "    \n",
      "    \n",
      "    \n",
      "      !!!!!!!!!!!!!!!!!!!!!!!!!!!!!!!!!!!!!!!!!!!!!!!!!!!!!!!!!!!!!!!!!!!!!!!!!!!!!!!\n",
      "    \n",
      "    \n",
      "      You must use Visual Studio to build a python extension on windows.  If you\n",
      "      are getting this error it means you have not installed Visual C++.  Note\n",
      "      that there are many flavors of Visual Studio, like Visual Studio for C#\n",
      "      development.  You need to install Visual Studio for C++.\n",
      "    \n",
      "    \n",
      "      !!!!!!!!!!!!!!!!!!!!!!!!!!!!!!!!!!!!!!!!!!!!!!!!!!!!!!!!!!!!!!!!!!!!!!!!!!!!!!!\n",
      "    \n",
      "    \n",
      "    \n",
      "    \n",
      "    -- Configuring incomplete, errors occurred!\n",
      "    Traceback (most recent call last):\n",
      "      File \"<string>\", line 1, in <module>\n",
      "      File \"C:\\Users\\91826\\AppData\\Local\\Temp\\pip-install-49n0pfo_\\dlib_ae96b46998d24353b987d84d45aed345\\setup.py\", line 222, in <module>\n",
      "        setup(\n",
      "      File \"c:\\Users\\91826\\AppData\\Local\\Programs\\Python\\Python39\\lib\\site-packages\\setuptools\\__init__.py\", line 153, in setup\n",
      "        return distutils.core.setup(**attrs)\n",
      "      File \"c:\\Users\\91826\\AppData\\Local\\Programs\\Python\\Python39\\lib\\distutils\\core.py\", line 148, in setup\n",
      "        dist.run_commands()\n",
      "      File \"c:\\Users\\91826\\AppData\\Local\\Programs\\Python\\Python39\\lib\\distutils\\dist.py\", line 966, in run_commands\n",
      "        self.run_command(cmd)\n",
      "      File \"c:\\Users\\91826\\AppData\\Local\\Programs\\Python\\Python39\\lib\\distutils\\dist.py\", line 985, in run_command\n",
      "        cmd_obj.run()\n",
      "      File \"c:\\Users\\91826\\AppData\\Local\\Programs\\Python\\Python39\\lib\\site-packages\\setuptools\\command\\install.py\", line 61, in run\n",
      "        return orig.install.run(self)\n",
      "      File \"c:\\Users\\91826\\AppData\\Local\\Programs\\Python\\Python39\\lib\\distutils\\command\\install.py\", line 546, in run\n",
      "        self.run_command('build')\n",
      "      File \"c:\\Users\\91826\\AppData\\Local\\Programs\\Python\\Python39\\lib\\distutils\\cmd.py\", line 313, in run_command\n",
      "        self.distribution.run_command(command)\n",
      "      File \"c:\\Users\\91826\\AppData\\Local\\Programs\\Python\\Python39\\lib\\distutils\\dist.py\", line 985, in run_command\n",
      "        cmd_obj.run()\n",
      "      File \"c:\\Users\\91826\\AppData\\Local\\Programs\\Python\\Python39\\lib\\distutils\\command\\build.py\", line 135, in run\n",
      "        self.run_command(cmd_name)\n",
      "      File \"c:\\Users\\91826\\AppData\\Local\\Programs\\Python\\Python39\\lib\\distutils\\cmd.py\", line 313, in run_command\n",
      "        self.distribution.run_command(command)\n",
      "      File \"c:\\Users\\91826\\AppData\\Local\\Programs\\Python\\Python39\\lib\\distutils\\dist.py\", line 985, in run_command\n",
      "        cmd_obj.run()\n",
      "      File \"C:\\Users\\91826\\AppData\\Local\\Temp\\pip-install-49n0pfo_\\dlib_ae96b46998d24353b987d84d45aed345\\setup.py\", line 134, in run\n",
      "        self.build_extension(ext)\n",
      "      File \"C:\\Users\\91826\\AppData\\Local\\Temp\\pip-install-49n0pfo_\\dlib_ae96b46998d24353b987d84d45aed345\\setup.py\", line 171, in build_extension\n",
      "        subprocess.check_call(cmake_setup, cwd=build_folder)\n",
      "      File \"c:\\Users\\91826\\AppData\\Local\\Programs\\Python\\Python39\\lib\\subprocess.py\", line 373, in check_call\n",
      "        raise CalledProcessError(retcode, cmd)\n",
      "    subprocess.CalledProcessError: Command '['cmake', 'C:\\\\Users\\\\91826\\\\AppData\\\\Local\\\\Temp\\\\pip-install-49n0pfo_\\\\dlib_ae96b46998d24353b987d84d45aed345\\\\tools\\\\python', '-DCMAKE_LIBRARY_OUTPUT_DIRECTORY=C:\\\\Users\\\\91826\\\\AppData\\\\Local\\\\Temp\\\\pip-install-49n0pfo_\\\\dlib_ae96b46998d24353b987d84d45aed345\\\\build\\\\lib.win-amd64-3.9', '-DPYTHON_EXECUTABLE=c:\\\\Users\\\\91826\\\\AppData\\\\Local\\\\Programs\\\\Python\\\\Python39\\\\python.exe', '-DCMAKE_LIBRARY_OUTPUT_DIRECTORY_RELEASE=C:\\\\Users\\\\91826\\\\AppData\\\\Local\\\\Temp\\\\pip-install-49n0pfo_\\\\dlib_ae96b46998d24353b987d84d45aed345\\\\build\\\\lib.win-amd64-3.9', '-A', 'x64']' returned non-zero exit status 1.\n",
      "    ----------------------------------------\n",
      "ERROR: Command errored out with exit status 1: 'c:\\Users\\91826\\AppData\\Local\\Programs\\Python\\Python39\\python.exe' -u -c 'import io, os, sys, setuptools, tokenize; sys.argv[0] = '\"'\"'C:\\\\Users\\\\91826\\\\AppData\\\\Local\\\\Temp\\\\pip-install-49n0pfo_\\\\dlib_ae96b46998d24353b987d84d45aed345\\\\setup.py'\"'\"'; __file__='\"'\"'C:\\\\Users\\\\91826\\\\AppData\\\\Local\\\\Temp\\\\pip-install-49n0pfo_\\\\dlib_ae96b46998d24353b987d84d45aed345\\\\setup.py'\"'\"';f = getattr(tokenize, '\"'\"'open'\"'\"', open)(__file__) if os.path.exists(__file__) else io.StringIO('\"'\"'from setuptools import setup; setup()'\"'\"');code = f.read().replace('\"'\"'\\r\\n'\"'\"', '\"'\"'\\n'\"'\"');f.close();exec(compile(code, __file__, '\"'\"'exec'\"'\"'))' install --record 'C:\\Users\\91826\\AppData\\Local\\Temp\\pip-record-yu2_ezlc\\install-record.txt' --single-version-externally-managed --compile --install-headers 'c:\\Users\\91826\\AppData\\Local\\Programs\\Python\\Python39\\Include\\dlib' Check the logs for full command output.\n",
      "WARNING: You are using pip version 21.1.3; however, version 23.1.2 is available.\n",
      "You should consider upgrading via the 'c:\\Users\\91826\\AppData\\Local\\Programs\\Python\\Python39\\python.exe -m pip install --upgrade pip' command.\n"
     ]
    }
   ],
   "source": [
    "!python -m pip install cmake\n",
    "!python -m pip install face_recognition\n"
   ]
  },
  {
   "cell_type": "code",
   "execution_count": null,
   "metadata": {},
   "outputs": [],
   "source": []
  },
  {
   "cell_type": "code",
   "execution_count": 5,
   "metadata": {},
   "outputs": [
    {
     "name": "stderr",
     "output_type": "stream",
     "text": [
      "ERROR: dlib-19.22.99-cp310-cp310-win_amd64.whl is not a supported wheel on this platform.\n",
      "WARNING: You are using pip version 21.1.3; however, version 23.1.2 is available.\n",
      "You should consider upgrading via the 'c:\\Users\\91826\\AppData\\Local\\Programs\\Python\\Python39\\python.exe -m pip install --upgrade pip' command.\n"
     ]
    }
   ],
   "source": [
    "!python -m pip install https://github.com/jloh02/dlib/releases/download/v19.22/dlib-19.22.99-cp310-cp310-win_amd64.whl "
   ]
  }
 ],
 "metadata": {
  "kernelspec": {
   "display_name": "Python 3",
   "language": "python",
   "name": "python3"
  },
  "language_info": {
   "codemirror_mode": {
    "name": "ipython",
    "version": 3
   },
   "file_extension": ".py",
   "mimetype": "text/x-python",
   "name": "python",
   "nbconvert_exporter": "python",
   "pygments_lexer": "ipython3",
   "version": "3.9.6"
  },
  "orig_nbformat": 4
 },
 "nbformat": 4,
 "nbformat_minor": 2
}
